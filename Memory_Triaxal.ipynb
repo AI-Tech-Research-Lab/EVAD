{
 "cells": [
  {
   "cell_type": "code",
   "execution_count": 1,
   "id": "d0634a76-70ba-4ae1-8adc-07a1ecbb9a70",
   "metadata": {},
   "outputs": [],
   "source": [
    "from tqdm import tqdm\n",
    "import os\n",
    "import pandas as pd\n",
    "import numpy as np\n",
    "from sklearn.svm import OneClassSVM\n",
    "import plotly.graph_objects as go\n",
    "from plotly.subplots import make_subplots\n",
    "import plotly.express as px\n",
    "from sklearn.preprocessing import RobustScaler\n",
    "from collections import Counter\n",
    "from matplotlib import pyplot as plt\n",
    "plt.rcParams[\"figure.figsize\"] = (10,10)\n",
    "\n",
    "\n",
    "from sklearn.decomposition import PCA\n",
    "\n",
    "from he_svm import preprocess_a_sample, he_svm, preprocess_a_sample_encrypted\n",
    "import glob\n",
    "import json"
   ]
  },
  {
   "cell_type": "code",
   "execution_count": 2,
   "id": "07f8fa5e-56d4-4629-9cfe-b7a02e286018",
   "metadata": {},
   "outputs": [],
   "source": [
    "healthy_csvs = ['data/TriaxalBearings/Healthy bearing data/Healthy with pulley.csv']\n",
    "\n",
    "LEN_SAMPLES = 500\n",
    "\n",
    "train_samples = []\n",
    "for f in healthy_csvs:\n",
    "    df = pd.read_csv(f)\n",
    "    df = df.iloc[:, 1:]\n",
    "    dfs = df.groupby(np.arange(len(df))//LEN_SAMPLES)\n",
    "    [train_samples.append(t[1]) for t in list(dfs)[:-1]]"
   ]
  },
  {
   "cell_type": "code",
   "execution_count": 3,
   "id": "18079997-dd9e-4eaf-9da2-dfeefe9e7111",
   "metadata": {},
   "outputs": [
    {
     "data": {
      "text/plain": [
       "237"
      ]
     },
     "execution_count": 3,
     "metadata": {},
     "output_type": "execute_result"
    }
   ],
   "source": [
    "len(train_samples)"
   ]
  },
  {
   "cell_type": "code",
   "execution_count": 4,
   "id": "5caab594-1fc5-4562-a73b-f5cb7ede0b0f",
   "metadata": {},
   "outputs": [
    {
     "data": {
      "text/plain": [
       "500"
      ]
     },
     "execution_count": 4,
     "metadata": {},
     "output_type": "execute_result"
    }
   ],
   "source": [
    "len(train_samples[0])"
   ]
  },
  {
   "cell_type": "markdown",
   "id": "a5eb90b6-e9f3-4c73-b45c-815eff45bf6c",
   "metadata": {},
   "source": [
    "# Train a SVM"
   ]
  },
  {
   "cell_type": "code",
   "execution_count": 5,
   "id": "52d039fb-a2f5-48bc-908f-8c96c5bee47b",
   "metadata": {},
   "outputs": [],
   "source": [
    "def preprocess_a_sample(df, windows):\n",
    "    final_sample = []\n",
    "    \n",
    "    for column in df.columns:\n",
    "        signal = df.loc[:, column]\n",
    "        \n",
    "        signal_fft = np.abs(np.fft.rfft(signal))**2\n",
    "        len_windows = int(len(signal_fft) / windows) - 1\n",
    "        \n",
    "        for i in range(windows):\n",
    "            if i == windows-1:\n",
    "                final_sample.append(np.mean(signal_fft[i*len_windows:]))\n",
    "            else:\n",
    "                final_sample.append(np.mean(signal_fft[i*len_windows:(i+1)*len_windows]))\n",
    "                \n",
    "    return np.array(final_sample)"
   ]
  },
  {
   "cell_type": "code",
   "execution_count": 6,
   "id": "3c7be470-200e-4611-b2a0-2c72799eeda6",
   "metadata": {},
   "outputs": [],
   "source": [
    "windows = 8"
   ]
  },
  {
   "cell_type": "code",
   "execution_count": 7,
   "id": "1e76b634-33a0-4c83-89ad-26dabe40e438",
   "metadata": {},
   "outputs": [],
   "source": [
    "preprocessed_samples_nominal = np.array([preprocess_a_sample(sample, windows) for sample in train_samples])\n",
    "    \n",
    "n = int(len(preprocessed_samples_nominal) * 0.8)\n",
    "preprocessed_samples_train = preprocessed_samples_nominal[:n]\n",
    "preprocessed_samples_test = preprocessed_samples_nominal[n:]\n",
    "\n",
    "svm = OneClassSVM(nu=0.05, kernel='poly', gamma='scale', degree=2)\n",
    "svm.fit(preprocessed_samples_train)\n",
    "svm.gamma_value = 1 / ((windows*3) * preprocessed_samples_train.var())  # to put gamma value in svm"
   ]
  },
  {
   "cell_type": "markdown",
   "id": "a57a611c-12bd-47ee-8918-a147e72b87e4",
   "metadata": {},
   "source": [
    "# Memory occupation"
   ]
  },
  {
   "cell_type": "code",
   "execution_count": 8,
   "id": "584daafe-5a75-4c72-a002-d3f0ce1bd3a3",
   "metadata": {},
   "outputs": [],
   "source": [
    "TRANSFER_SPEED = (1 * 1000 * 1000 * 1000) / 8  # 1 Gbit/s"
   ]
  },
  {
   "cell_type": "code",
   "execution_count": 9,
   "id": "84d7a54f-a06d-4384-adcd-5b8fdc7b9234",
   "metadata": {},
   "outputs": [
    {
     "name": "stdout",
     "output_type": "stream",
     "text": [
      "Context size in MegaBytes is 349.79104232788086\n",
      "Transfer time: 2.934259936\n"
     ]
    }
   ],
   "source": [
    "from linetimer import CodeTimer\n",
    "import tenseal as ts\n",
    "np.set_printoptions(precision=3, suppress=True)\n",
    "\n",
    "poly_modulus_degree=2**14\n",
    "coeff_mod_bit_sizes=[60] + [50]*6 + [60]\n",
    "\n",
    "# Setup TenSEAL context\n",
    "context = ts.context(\n",
    "            ts.SCHEME_TYPE.CKKS,\n",
    "            poly_modulus_degree=poly_modulus_degree,\n",
    "            coeff_mod_bit_sizes=coeff_mod_bit_sizes\n",
    "          )\n",
    "context.generate_galois_keys()\n",
    "context.global_scale = 2**50\n",
    "\n",
    "sk = context.secret_key()\n",
    "\n",
    "context.make_context_public()\n",
    "\n",
    "with open('context', 'wb') as f:\n",
    "    f.write(context.serialize(save_public_key=False))\n",
    "\n",
    "file_stats = os.stat('context')\n",
    "\n",
    "print(f'Context size in MegaBytes is {file_stats.st_size / (1024 * 1024)}')\n",
    "print(f'Transfer time: {file_stats.st_size / TRANSFER_SPEED}')\n",
    "\n",
    "os.remove('context')"
   ]
  },
  {
   "cell_type": "code",
   "execution_count": 10,
   "id": "1f3724a2-2990-4a8a-aa70-58fccf2eb14a",
   "metadata": {},
   "outputs": [],
   "source": [
    "%load_ext memory_profiler"
   ]
  },
  {
   "cell_type": "code",
   "execution_count": 11,
   "id": "e6fe3e43-7ad6-4b56-bdd1-491f9a2e1330",
   "metadata": {},
   "outputs": [],
   "source": [
    "def fun(sample, context, windows, svm):\n",
    "    x_enc_preprocessed = preprocess_a_sample_encrypted(sample, context, windows, None)\n",
    "    x_enc_predicted = he_svm(x_enc_preprocessed, svm, windows)\n",
    "    return x_enc_predicted"
   ]
  },
  {
   "cell_type": "code",
   "execution_count": 12,
   "id": "33757dbe-c548-43ff-bff0-3d47a1af2cb3",
   "metadata": {},
   "outputs": [
    {
     "name": "stdout",
     "output_type": "stream",
     "text": [
      "      X-axis   Y-axis   Z-axis\n",
      "0    -0.1350   2.0480   1.3973\n",
      "1    -0.1802   2.0480   1.0481\n",
      "2    -0.6722   1.7615   0.8155\n",
      "3    -0.1718   1.8442   0.7816\n",
      "4    -0.5349   1.3910   0.5537\n",
      "..       ...      ...      ...\n",
      "495  -1.1491  -0.3261   0.8738\n",
      "496   0.1940   0.5144   0.9226\n",
      "497  -0.5761   0.9639   1.1901\n",
      "498  -0.5527   1.0113   0.7272\n",
      "499  -0.8701   0.2551   0.8635\n",
      "\n",
      "[500 rows x 3 columns]\n",
      "Sample length: 3 * 500\n",
      "Code block 'Encryption' took: 45.85052 ms\n"
     ]
    },
    {
     "name": "stdout",
     "output_type": "stream",
     "text": [
      "A single sample size in MegaBytes is 17.095617294311523\n",
      "Transfer time: 0.143408432\n"
     ]
    }
   ],
   "source": [
    "for f in ['data/TriaxalBearings/1.3mm-bearing-faults/1.3outer-200watt.csv']:\n",
    "    df = pd.read_csv(f)\n",
    "    df = df.iloc[:, 1:]\n",
    "    dfs = df.groupby(np.arange(len(df))//LEN_SAMPLES)\n",
    "    anomalous_samples = [t[1] for t in list(dfs)[:-1]]\n",
    "    \n",
    "    for sample in anomalous_samples[:]:\n",
    "        print(sample)\n",
    "        print(f\"Sample length: 3 * {len(sample)}\")\n",
    "\n",
    "        df = sample\n",
    "\n",
    "        X = df.loc[:, ' X-axis']\n",
    "        Y = df.loc[:, ' Y-axis']\n",
    "        Z = df.loc[:, ' Z-axis']\n",
    "\n",
    "        with CodeTimer('Encryption'):\n",
    "            enc_X = ts.ckks_vector(context, X)\n",
    "            enc_Y = ts.ckks_vector(context, Y)\n",
    "            enc_Z = ts.ckks_vector(context, Z)\n",
    "\n",
    "        encrypted_sample = {'X': str(enc_X.serialize()), 'Y': str(enc_Y.serialize()), 'Z': str(enc_Z.serialize())}\n",
    "\n",
    "        with open('sample', 'w') as f:\n",
    "            json.dump(encrypted_sample, f)\n",
    "\n",
    "\n",
    "        file_stats = os.stat('sample')\n",
    "\n",
    "        print(f'A single sample size in MegaBytes is {file_stats.st_size / (1024 * 1024)}')\n",
    "        print(f'Transfer time: {file_stats.st_size / TRANSFER_SPEED}')\n",
    "\n",
    "        os.remove('sample')        \n",
    "        break"
   ]
  },
  {
   "cell_type": "code",
   "execution_count": 13,
   "id": "0dee908f-1a8f-4529-8990-e5001a572d1a",
   "metadata": {},
   "outputs": [
    {
     "name": "stdout",
     "output_type": "stream",
     "text": [
      "RAM Used (GB): 13.267390464\n"
     ]
    }
   ],
   "source": [
    "# Importing the library\n",
    "import psutil\n",
    "\n",
    "print('RAM Used (GB):', psutil.virtual_memory()[3]/1000000000)"
   ]
  },
  {
   "cell_type": "code",
   "execution_count": 14,
   "id": "6f12d4d8-5d75-42e3-8352-f67ad4451c79",
   "metadata": {},
   "outputs": [
    {
     "name": "stdout",
     "output_type": "stream",
     "text": [
      "peak memory: 2451.48 MiB, increment: 1385.39 MiB\n"
     ]
    }
   ],
   "source": [
    "%memit res=fun(sample, context, windows, svm)"
   ]
  },
  {
   "cell_type": "code",
   "execution_count": 15,
   "id": "0efd35e2-a1da-48f5-9a8c-f641273200b9",
   "metadata": {},
   "outputs": [
    {
     "name": "stdout",
     "output_type": "stream",
     "text": [
      "RAM Used (GB): 14.716944384\n"
     ]
    }
   ],
   "source": [
    "print('RAM Used (GB):', psutil.virtual_memory()[3]/1000000000)"
   ]
  },
  {
   "cell_type": "code",
   "execution_count": 16,
   "id": "5cd99ec5-a306-4376-b129-b14cd103a2a1",
   "metadata": {},
   "outputs": [
    {
     "data": {
      "text/plain": [
       "array([<tenseal.tensors.ckksvector.CKKSVector object at 0x7fd899dc73a0>],\n",
       "      dtype=object)"
      ]
     },
     "execution_count": 16,
     "metadata": {},
     "output_type": "execute_result"
    }
   ],
   "source": [
    "res"
   ]
  },
  {
   "cell_type": "code",
   "execution_count": 17,
   "id": "77d55e9c-02d4-40cb-ab06-76e1122a9f27",
   "metadata": {},
   "outputs": [
    {
     "name": "stdout",
     "output_type": "stream",
     "text": [
      "A single result in MegaBytes is 0.9134492874145508\n",
      "Transfer time: 0.007662568\n"
     ]
    }
   ],
   "source": [
    "with open('res', 'w') as f:\n",
    "    encrypted_result = {'X': str(res[0].serialize())}\n",
    "    json.dump(encrypted_result, f)\n",
    "\n",
    "\n",
    "file_stats = os.stat('res')\n",
    "\n",
    "print(f'A single result in MegaBytes is {file_stats.st_size / (1024 * 1024)}')\n",
    "print(f'Transfer time: {file_stats.st_size / TRANSFER_SPEED}')"
   ]
  },
  {
   "cell_type": "code",
   "execution_count": 18,
   "id": "473d078b-6e51-4b49-b002-d541e7d71930",
   "metadata": {},
   "outputs": [],
   "source": [
    "os.remove('res')"
   ]
  },
  {
   "cell_type": "code",
   "execution_count": null,
   "id": "dcdcb0c1-2a9b-48fb-8755-1820922aa94b",
   "metadata": {},
   "outputs": [],
   "source": []
  },
  {
   "cell_type": "code",
   "execution_count": null,
   "id": "f7f80a4a-e45c-4d00-a691-53f2508e8c60",
   "metadata": {},
   "outputs": [],
   "source": []
  }
 ],
 "metadata": {
  "kernelspec": {
   "display_name": "evad--jNsjQLW-py3.8",
   "language": "python",
   "name": "python3"
  },
  "language_info": {
   "codemirror_mode": {
    "name": "ipython",
    "version": 3
   },
   "file_extension": ".py",
   "mimetype": "text/x-python",
   "name": "python",
   "nbconvert_exporter": "python",
   "pygments_lexer": "ipython3",
   "version": "3.8.10"
  }
 },
 "nbformat": 4,
 "nbformat_minor": 5
}
